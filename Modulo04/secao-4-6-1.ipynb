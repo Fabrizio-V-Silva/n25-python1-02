{
 "cells": [
  {
   "cell_type": "markdown",
   "metadata": {},
   "source": [
    "# 4.6.1 - Tuplas e dicionarios\n",
    "### Tuplas"
   ]
  },
  {
   "cell_type": "code",
   "execution_count": 2,
   "metadata": {},
   "outputs": [
    {
     "name": "stdout",
     "output_type": "stream",
     "text": [
      "() (1, 2) (1, 2)\n",
      "(1,)\n"
     ]
    }
   ],
   "source": [
    "# definindo uma tupla vazia\n",
    "tupla = ()\n",
    "# Definindo uma tupla com 2 elementos\n",
    "tupla_v1 = (1,2)\n",
    "tupla_v2 = 1,2\n",
    "print(tupla, tupla_v1, tupla_v2)\n",
    "# Definindo uma tupla com 1 elemento\n",
    "tupla_v3 = 1,\n",
    "print(tupla_v3)"
   ]
  },
  {
   "cell_type": "code",
   "execution_count": 13,
   "metadata": {},
   "outputs": [
    {
     "name": "stdout",
     "output_type": "stream",
     "text": [
      "(1, 2, 3, 4, 5, 6, 7, 8)\n",
      "(3, 4, 5, 6)\n",
      "True\n",
      "False\n"
     ]
    }
   ],
   "source": [
    "# Operações com tuplas\n",
    "tupla = (1,2,3,4,5)\n",
    "# tupla.append(6) # isso não pode\n",
    "# .insert(1,6) # isso não pode também\n",
    "# del tupla[2] # isso também não pode\n",
    "# tupla[4] = 10 # isso também não é permitido\n",
    "tupla = tupla + (6,7,8)\n",
    "print(tupla)\n",
    "print(tupla[2:-2]) # fatiamento é possivel também\n",
    "print(6 in tupla) # in pode\n",
    "print(5 not in tupla) # not in pode"
   ]
  },
  {
   "cell_type": "code",
   "execution_count": null,
   "metadata": {},
   "outputs": [],
   "source": [
    "### Dicionário"
   ]
  },
  {
   "cell_type": "code",
   "execution_count": 23,
   "metadata": {},
   "outputs": [
    {
     "name": "stdout",
     "output_type": "stream",
     "text": [
      "Fabrizio Silva\n",
      "{'nome': 'Fabrizio Silva', 'endereco': 'Rua das ruas, 15', 'telefone': '12345678900'}\n",
      "3\n",
      "True\n",
      "False\n",
      "dict_keys(['nome', 'endereco', 'telefone'])\n",
      "dict_values(['Fabrizio Silva', 'Rua das ruas, 15', '12345678900'])\n",
      "dict_items([('nome', 'Fabrizio Silva'), ('endereco', 'Rua das ruas, 15'), ('telefone', '12345678900')])\n",
      "nome, endereco, telefone, \n",
      "Fabrizio Silva, Rua das ruas, 15, 12345678900, \n",
      "nome = Fabrizio Silva, endereco = Rua das ruas, 15, telefone = 12345678900, "
     ]
    }
   ],
   "source": [
    "dic = { \"nome\": \"Fabrizio Silva\", \"endereco\": \"Rua das ruas, 15\"}\n",
    "print(dic[\"nome\"])\n",
    "dic[\"telefone\"] = \"12345678900\"\n",
    "print(dic)\n",
    "print(len(dic))\n",
    "print(\"nome\" in dic)\n",
    "print(\"celular\" in dic)\n",
    "print(dic.keys())\n",
    "print(dic.values())\n",
    "print(dic.items())\n",
    "for el in dic.keys(): print(el,end=\", \")\n",
    "print()\n",
    "for el in dic.values(): print(el,end=\", \")\n",
    "print()\n",
    "for ch, vl in dic.items(): print(ch, \"=\",vl,end=\", \")\n"
   ]
  },
  {
   "cell_type": "code",
   "execution_count": null,
   "metadata": {},
   "outputs": [
    {
     "name": "stdout",
     "output_type": "stream",
     "text": [
      "{'nome': 'Fabrizio Silva', 'endereco': 'Rua das ruas, 15'}\n"
     ]
    }
   ],
   "source": [
    "del dic[\"telefone\"] # exclui telefone (obs: se executar novamente vai dar erro, porque o telefone já não existe mais na base de dados)\n",
    "print(dic)"
   ]
  }
 ],
 "metadata": {
  "kernelspec": {
   "display_name": ".venv",
   "language": "python",
   "name": "python3"
  },
  "language_info": {
   "codemirror_mode": {
    "name": "ipython",
    "version": 3
   },
   "file_extension": ".py",
   "mimetype": "text/x-python",
   "name": "python",
   "nbconvert_exporter": "python",
   "pygments_lexer": "ipython3",
   "version": "3.13.2"
  }
 },
 "nbformat": 4,
 "nbformat_minor": 2
}
