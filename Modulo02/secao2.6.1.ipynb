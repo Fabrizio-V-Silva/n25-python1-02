{
 "cells": [
  {
   "cell_type": "markdown",
   "metadata": {},
   "source": [
    "# Interação com o Usuário\n",
    "### Função imput ()"
   ]
  },
  {
   "cell_type": "code",
   "execution_count": 1,
   "metadata": {},
   "outputs": [
    {
     "name": "stdout",
     "output_type": "stream",
     "text": [
      "Digite sua idade:\n",
      "Você tem 25 anos.\n"
     ]
    }
   ],
   "source": [
    "print(\"Digite sua idade:\")\n",
    "idade = input ()\n",
    "print(\"Você tem \" + idade + \" anos.\")\n",
    "\n"
   ]
  },
  {
   "cell_type": "code",
   "execution_count": null,
   "metadata": {},
   "outputs": [
    {
     "name": "stdout",
     "output_type": "stream",
     "text": [
      "Voce tem 25 anos. \n",
      "<class 'str'>\n"
     ]
    }
   ],
   "source": [
    "idade = input (\"Digite sua idade: \") #Passando a msg com argumento\n",
    "print(\"Voce tem \" + idade + \" anos. \")\n",
    "print(type(idade)) # Verificando o tipo da variável idade\n",
    "\n"
   ]
  },
  {
   "cell_type": "code",
   "execution_count": null,
   "metadata": {},
   "outputs": [
    {
     "name": "stdout",
     "output_type": "stream",
     "text": [
      "você nasceu em 2000.\n",
      "você nasceu em 2000 .\n"
     ]
    }
   ],
   "source": [
    "# Isso não será possível fazer\n",
    "idade = int(input(\"Digite sua idade: \")) # se não converter da erro abaixo\n",
    "ano_nascimento = 2025 - idade # erro de tipo, idade é uma string e não pode ser subtraída de um ano\n",
    "print(\"você nasceu em \" + str(ano_nascimento) + \".\") # convertendo o ano pra string\n",
    "print(\"você nasceu em\",ano_nascimento, \".\",sep=\" \") # usando argumentos do print e sep em espaço"
   ]
  },
  {
   "cell_type": "code",
   "execution_count": 24,
   "metadata": {},
   "outputs": [
    {
     "name": "stdout",
     "output_type": "stream",
     "text": [
      "A temperatura em Fahrenheit é: 91.4°F\n"
     ]
    }
   ],
   "source": [
    "# Desenvolver um programa para solicitar o valor de uma temperatura\n",
    "# em graus Celsius e convertê-la para graus Fahrenheit\n",
    "# A fórmula de conversão é:\n",
    "# F = C * 9/5 + 32\n",
    "celsius = float(input(\"Digite a temperatura em Celsius: \"))\n",
    "fahrenheit = celsius * 9/5 + 32\n",
    "print(\"A temperatura em Fahrenheit é: \", fahrenheit, \"°F\" , sep=\"\")"
   ]
  },
  {
   "attachments": {
    "image.png": {
     "image/png": "[encoded data removed]"
    }
   },
   "cell_type": "markdown",
   "metadata": {},
   "source": [
    "# Laboratório 2.6.10\n",
    "![image.png](attachment:image.png)"
   ]
  },
  {
   "cell_type": "code",
   "execution_count": 32,
   "metadata": {},
   "outputs": [
    {
     "name": "stdout",
     "output_type": "stream",
     "text": [
      "y = 0.6000000000000001\n"
     ]
    }
   ],
   "source": [
    "x = float(input(\"Digite o valor para x: \"))\n",
    "y = 1 / (x + 1 / (x + 1 / (x + 1 / x )))\n",
    "print(\"y =\", y)\n"
   ]
  },
  {
   "cell_type": "markdown",
   "metadata": {},
   "source": [
    "# Laboratório 2.6.11\n"
   ]
  },
  {
   "cell_type": "code",
   "execution_count": null,
   "metadata": {},
   "outputs": [
    {
     "name": "stdout",
     "output_type": "stream",
     "text": [
      "11:20\n"
     ]
    }
   ],
   "source": [
    "hour = int(input(\"Hora de início (horas): \"))\n",
    "mins = int(input(\"Hora de início (minutos): \"))\n",
    "dura = int(input(\"Duração do evento (minutos): \"))\n",
    "# Escreva seu código aqui\n",
    "# Imprimir o resultado em horas e minutos\n",
    "tempo_total = hour * 60 + mins + dura # converte tudo pra minuto\n",
    "hora_final = tempo_total // 60 % 24 # pega a parte inteira da divisão\n",
    "minuto_final = tempo_total % 60 # pega o resto da divisão\n",
    "# Imprimir o resultado em horas e minutos\n",
    "print(hora_final, minuto_final, sep=\":\")\n"
   ]
  }
 ],
 "metadata": {
  "kernelspec": {
   "display_name": ".venv",
   "language": "python",
   "name": "python3"
  },
  "language_info": {
   "codemirror_mode": {
    "name": "ipython",
    "version": 3
   },
   "file_extension": ".py",
   "mimetype": "text/x-python",
   "name": "python",
   "nbconvert_exporter": "python",
   "pygments_lexer": "ipython3",
   "version": "3.13.2"
  }
 },
 "nbformat": 4,
 "nbformat_minor": 2
}
