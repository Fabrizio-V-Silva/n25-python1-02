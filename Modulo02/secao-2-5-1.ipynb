{
 "cells": [
  {
   "cell_type": "markdown",
   "metadata": {},
   "source": [
    "# Comentários"
   ]
  },
  {
   "cell_type": "code",
   "execution_count": null,
   "metadata": {},
   "outputs": [],
   "source": [
    "# Para comentários de uma linha, usar o caractere #\n",
    "# linha 2\n",
    "# linha 3\n",
    "print(Hello World) # Comentário após comando é possível\n",
    "\n",
    "\n"
   ]
  },
  {
   "cell_type": "code",
   "execution_count": null,
   "metadata": {},
   "outputs": [],
   "source": [
    "\"\"\"\n",
    "Para comentários de múltiplas linhas, use aspas triplas\"\n",
    "ou aspas simples triplas.\n",
    "\"\"\"\n",
    "'''\n",
    "Dessa forma também funciona.'\n",
    "''' \n",
    "\"\"\" comentário \"\"\""
   ]
  }
 ],
 "metadata": {
  "kernelspec": {
   "display_name": ".venv",
   "language": "python",
   "name": "python3"
  },
  "language_info": {
   "name": "python",
   "version": "3.13.2"
  }
 },
 "nbformat": 4,
 "nbformat_minor": 2
}
