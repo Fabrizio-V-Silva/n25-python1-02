{
 "cells": [
  {
   "cell_type": "markdown",
   "metadata": {},
   "source": [
    "# Tomada de decisão\n",
    "## Operações relacionais\n",
    "### Operador de igualdade ( == )"
   ]
  },
  {
   "cell_type": "code",
   "execution_count": 2,
   "metadata": {},
   "outputs": [
    {
     "name": "stdout",
     "output_type": "stream",
     "text": [
      "False\n",
      "True\n",
      "True\n",
      "True\n"
     ]
    }
   ],
   "source": [
    "print( 1 == 2)\n",
    "print( 1 == 1)\n",
    "print( 1 == 1.0)\n",
    "print( 2 == 0b10) # 2 em Binário\n"
   ]
  },
  {
   "cell_type": "markdown",
   "metadata": {},
   "source": [
    "### Operador de desigualdade"
   ]
  },
  {
   "cell_type": "code",
   "execution_count": 3,
   "metadata": {},
   "outputs": [
    {
     "name": "stdout",
     "output_type": "stream",
     "text": [
      "True\n",
      "False\n",
      "False\n",
      "False\n"
     ]
    }
   ],
   "source": [
    "print( 1 != 2)\n",
    "print( 1 != 1)\n",
    "print( 1 != 1.0)\n",
    "print( 2 != 0b10) # 2 em binário"
   ]
  },
  {
   "cell_type": "markdown",
   "metadata": {},
   "source": [
    "### Operador maio que ( > ) e maior igual a ( >+ ) \n"
   ]
  },
  {
   "cell_type": "code",
   "execution_count": 4,
   "metadata": {},
   "outputs": [
    {
     "name": "stdout",
     "output_type": "stream",
     "text": [
      "False\n",
      "True\n",
      "True\n",
      "True\n"
     ]
    }
   ],
   "source": [
    "print( 1 > 2)\n",
    "print( 2 > 1)\n",
    "print( 2 >= 1)\n",
    "print( 2 >= 0b10) # 2 em binário"
   ]
  },
  {
   "cell_type": "markdown",
   "metadata": {},
   "source": [
    "### Operador menor que ( < ) e menor igual a ( <= )"
   ]
  },
  {
   "cell_type": "code",
   "execution_count": 5,
   "metadata": {},
   "outputs": [
    {
     "name": "stdout",
     "output_type": "stream",
     "text": [
      "True\n",
      "False\n",
      "False\n",
      "True\n"
     ]
    }
   ],
   "source": [
    "print( 1 < 2)\n",
    "print( 2 < 1)\n",
    "print( 2 <= 1)\n",
    "print( 2 <= 0b10) # 2 em binário"
   ]
  },
  {
   "cell_type": "markdown",
   "metadata": {},
   "source": [
    "#### Atualizando a lista de prioridades de operadores\n",
    "| Seq | Operador | Descrição |\n",
    "| :- | - | :- |\n",
    "| 1 | ** | Expoenciação |\n",
    "| 2 | +,- | Unários Sinal\n",
    "| 3 | *,/,//,% | Multiplicação, divissões e resto |\n",
    "| 4 | +,- | Soma e subtração |\n",
    "| 5 | >, >=, <, <= | Maior, maior igual, menor, menor igual |\n",
    "| 6 | ==, != | Igualdade e diferença |"
   ]
  },
  {
   "cell_type": "markdown",
   "metadata": {},
   "source": [
    "### Operador if ( Se )\n",
    "sintaxe:\n",
    "if condicao_verdade:\n",
    "     comando_a_ser_executado1()\n",
    "     comando_a_ser_executado2()\n",
    "if comando2:\n",
    "     comando_03()"
   ]
  },
  {
   "cell_type": "code",
   "execution_count": 6,
   "metadata": {},
   "outputs": [
    {
     "ename": "ValueError",
     "evalue": "invalid literal for int() with base 10: 'spathiphyllum'",
     "output_type": "error",
     "traceback": [
      "\u001b[31m---------------------------------------------------------------------------\u001b[39m",
      "\u001b[31mValueError\u001b[39m                                Traceback (most recent call last)",
      "\u001b[36mCell\u001b[39m\u001b[36m \u001b[39m\u001b[32mIn[6]\u001b[39m\u001b[32m, line 1\u001b[39m\n\u001b[32m----> \u001b[39m\u001b[32m1\u001b[39m idade = \u001b[38;5;28;43mint\u001b[39;49m\u001b[43m(\u001b[49m\u001b[38;5;28;43minput\u001b[39;49m\u001b[43m(\u001b[49m\u001b[33;43m\"\u001b[39;49m\u001b[33;43mDigite sua idade: \u001b[39;49m\u001b[33;43m\"\u001b[39;49m\u001b[43m)\u001b[49m\u001b[43m)\u001b[49m\n\u001b[32m      2\u001b[39m \u001b[38;5;28;01mif\u001b[39;00m idade >= \u001b[32m18\u001b[39m:\n\u001b[32m      3\u001b[39m     \u001b[38;5;28mprint\u001b[39m(\u001b[33m\"\u001b[39m\u001b[33mVocê é maior de idade\u001b[39m\u001b[33m\"\u001b[39m)\n",
      "\u001b[31mValueError\u001b[39m: invalid literal for int() with base 10: 'spathiphyllum'"
     ]
    }
   ],
   "source": [
    "idade = int(input(\"Digite sua idade: \"))\n",
    "if idade >= 18:\n",
    "    print(\"Você é maior de idade\")\n",
    "    print(\"Você pode dirigir, se habilitado!\")\n",
    "print(\"fim do programa\")"
   ]
  },
  {
   "cell_type": "markdown",
   "metadata": {},
   "source": [
    "### Instrução else ()"
   ]
  },
  {
   "cell_type": "code",
   "execution_count": null,
   "metadata": {},
   "outputs": [
    {
     "name": "stdout",
     "output_type": "stream",
     "text": [
      "Você é maior de idade\n",
      "Você pode dirigir, se habilitado!\n",
      "fim do programa\n"
     ]
    }
   ],
   "source": [
    "idade = int(input(\"Digite sua idade: \"))\n",
    "if idade >= 18:\n",
    "    print(\"Você é maior de idade\")\n",
    "    print(\"Você pode dirigir, se habilitado!\")\n",
    "    if idade >= 70:\n",
    "        print(\"Você deve fazer exames médicos anuais\")\n",
    "    else:\n",
    "        if idade >= 65:\n",
    "            print(\"Você deve fazer exames médicos a cada 2 anos\")\n",
    "else:\n",
    "    print(\"Você é menor de idade\")\n",
    "    print(\"Você não pode dirigir!\")\n",
    "print(\"fim do programa\")"
   ]
  },
  {
   "cell_type": "markdown",
   "metadata": {},
   "source": [
    "### Instrução elif"
   ]
  },
  {
   "cell_type": "code",
   "execution_count": null,
   "metadata": {},
   "outputs": [
    {
     "name": "stdout",
     "output_type": "stream",
     "text": [
      "Você é maior de idade\n",
      "Você pode dirigir, se habilitado\n"
     ]
    }
   ],
   "source": [
    "idade = int(input(\"Digite sua idade: \"))\n",
    "if idade >= 70:\n",
    "    print(\"Você é maior de idade\")\n",
    "    print(\"Você pode dirigir, se habilitado!\")\n",
    "    print(\"Você deve fazer exames médicos anuais\")\n",
    "elif idade >= 65:\n",
    "    print(\"Você é maior de idade\")\n",
    "    print(\"Você pode dirigir, se habilitado!\")\n",
    "    print(\"Você deve fazer exames medicos a cada 2 anos\")\n",
    "elif idade >= 18:\n",
    "    print(\"Você é maior de idade\")\n",
    "    print(\"Você pode dirigir, se habilitado\")\n",
    "else:\n",
    "    print(\"Você é menor de idade.\")"
   ]
  },
  {
   "cell_type": "code",
   "execution_count": null,
   "metadata": {},
   "outputs": [
    {
     "name": "stdout",
     "output_type": "stream",
     "text": [
      "O maior número é: 11\n"
     ]
    }
   ],
   "source": [
    "# Obtendo o maior número entre dois números\n",
    "num1 = int(input(\"Digite o primeiro número: \"))\n",
    "num2 = int(input(\"Digite o segundo número: \"))\n",
    "maior = num1\n",
    "if num1 > maior:\n",
    "    maior = num1\n",
    "if num2 > maior:\n",
    "    maior = num2\n",
    "print(\"O maior número é:\", maior)"
   ]
  },
  {
   "cell_type": "code",
   "execution_count": null,
   "metadata": {},
   "outputs": [
    {
     "name": "stdout",
     "output_type": "stream",
     "text": [
      "O maior número é: 15\n"
     ]
    }
   ],
   "source": [
    "# Obtendo o maior número entre três números\n",
    "num1 = int(input(\"Digite o primeiro número: \"))\n",
    "num2 = int(input(\"Digite o segundo número: \"))\n",
    "num3 = int(input(\"Digite o terceiro número: \"))\n",
    "maior = num1\n",
    "if num2 > maior:\n",
    "    maior = num2\n",
    "if num3 > maior:\n",
    "    maior = num3\n",
    "print(\"O maior número é:\", maior)"
   ]
  },
  {
   "cell_type": "code",
   "execution_count": null,
   "metadata": {},
   "outputs": [
    {
     "name": "stdout",
     "output_type": "stream",
     "text": [
      "Silva é maior ou igual a  Fabrizio\n"
     ]
    }
   ],
   "source": [
    "# Uso do if com strings\n",
    "nome = input(\"Digite seu nome: \")\n",
    "nome2 = input(\"Digite outro nome: \")\n",
    "if nome > nome2:\n",
    "    print(nome, \"é maior que\", nome2)\n",
    "else:\n",
    "    print(nome2, \"é maior ou igual a \", nome)\n",
    "    "
   ]
  },
  {
   "cell_type": "markdown",
   "metadata": {},
   "source": [
    "# lab 3.1.10"
   ]
  },
  {
   "cell_type": "code",
   "execution_count": 14,
   "metadata": {},
   "outputs": [
    {
     "name": "stdout",
     "output_type": "stream",
     "text": [
      "No, I want a big Spathiphyllum!\n"
     ]
    }
   ],
   "source": [
    "entrada = (input(\"Digite sua entrada: \"))\n",
    "if entrada == \"spathiphyllum\":\n",
    "    print(\"No, I want a big Spathiphyllum!\")\n",
    "if entrada == \"pelargonium\":\n",
    "    print(\"Spathiphyllum! Not pelargonium!\")\n",
    "if entrada == \"Spathiphyllum\":\n",
    "    print(\"Yes - Spathiphyllum is the best plant ever!\")"
   ]
  },
  {
   "cell_type": "markdown",
   "metadata": {},
   "source": [
    "# Lab 3.1.11\n",
    "# Se a renda do cidadão não era superior a 85.528 talões,\n",
    "# o imposto era igual a 18% de renda, menos 556 taller e 2 centavos\n",
    "# (isso era o que eles chamavam de isenção de imposto)\n",
    "# se a receita fosse superior a esse valor, o imposto seria igual a 14.839 talões e 2 centavos\n",
    "# mais 32% do excedente em mais de 85.528 taller\n",
    "\n",
    "income = float(input(\"Entre com os rendimentos anuais \"))\n",
    "\n",
    "if income < 85528:\n",
    " tax = income * 0.18 - 556.02\n",
    "# Escreve o resto do código aqui.\n",
    "\n",
    "tax = round(tax, 0)\n",
    "print(\"A taxa é:\", tax, \"thalers\") "
   ]
  },
  {
   "cell_type": "code",
   "execution_count": 26,
   "metadata": {},
   "outputs": [
    {
     "name": "stdout",
     "output_type": "stream",
     "text": [
      "A taxa é:  19470.0 thalers\n"
     ]
    }
   ],
   "source": [
    "income = float(input(\"Entre com os rendimentos anuais \"))              \n",
    "if income < 85528:\n",
    "    tax = income * 0.18 - 556.02\n",
    "else:\n",
    "    tax = 14839.02 + (income - 85528) * 0.32\n",
    "if tax < 0:\n",
    "    tax = 0\n",
    "tax = round(tax, 0)\n",
    "print(\"A taxa é: \", tax, \"thalers\")\n",
    "\n"
   ]
  },
  {
   "cell_type": "markdown",
   "metadata": {},
   "source": [
    "# Lab 3.1.12\n",
    "# Como você certamente sabe, devido a algumas razões astronômicas, os anos podem ser bissextos ou comuns. \n",
    "# Os primeiros têm 366 dias, enquanto os segundos têm 365 dias.\n",
    "\n",
    "# Desde a introdução do calendário gregoriano (em 1582), a regra a seguir é usada para determinar o tipo de ano:\n",
    "\n",
    "# se o número do ano não é divisível por quatro, é um ano comum;\n",
    "# caso contrário, se o número do ano não for divisível por 100, será um ano bissexto;\n",
    "# caso contrário, se o número do ano não for divisível por 400, é um ano comum ;\n",
    "# caso contrário, é um ano bissexto .\n"
   ]
  },
  {
   "cell_type": "code",
   "execution_count": 35,
   "metadata": {},
   "outputs": [
    {
     "name": "stdout",
     "output_type": "stream",
     "text": [
      "ano comum\n"
     ]
    }
   ],
   "source": [
    "year = int(input(\"Digite um ano: \"))\n",
    "\n",
    "if year < 1582:\n",
    "    print(\"Não dentro do período do calendário gregoriano\")\n",
    "else: \n",
    "    if year % 4 != 0:\n",
    "     print(\"ano comum\")\n",
    "    elif year % 100 != 0:\n",
    "        print(\"ano bissexto\")\n",
    "    elif year % 400 != 0:\n",
    "       print(\"ano comum\")\n",
    "    else:\n",
    "       print(\"Ano bissexto!\")"
   ]
  },
  {
   "cell_type": "markdown",
   "metadata": {},
   "source": [
    "# Multipla atribuição\n",
    "a, b, c = 1, 2, 3\n",
    "# Valores de a = 5, 5 = 6, faça uma permuta de com as variaveis\n",
    "a = 5\n",
    "b = 6\n",
    "# efetuando a permuta\n",
    "a = b\n",
    "b = apoio\n",
    "# efetuando a permuta no python\n",
    "a, b = b, a"
   ]
  }
 ],
 "metadata": {
  "kernelspec": {
   "display_name": ".venv",
   "language": "python",
   "name": "python3"
  },
  "language_info": {
   "codemirror_mode": {
    "name": "ipython",
    "version": 3
   },
   "file_extension": ".py",
   "mimetype": "text/x-python",
   "name": "python",
   "nbconvert_exporter": "python",
   "pygments_lexer": "ipython3",
   "version": "3.13.2"
  }
 },
 "nbformat": 4,
 "nbformat_minor": 2
}
