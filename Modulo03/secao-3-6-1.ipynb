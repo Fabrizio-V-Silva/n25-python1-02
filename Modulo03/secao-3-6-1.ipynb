{
 "cells": [
  {
   "cell_type": "markdown",
   "metadata": {},
   "source": [
    "# 3.6.1 - Operações com lista\n",
    "### Fatiamento "
   ]
  },
  {
   "cell_type": "code",
   "execution_count": 1,
   "metadata": {},
   "outputs": [
    {
     "name": "stdout",
     "output_type": "stream",
     "text": [
      "20 15\n"
     ]
    }
   ],
   "source": [
    "# operações com valores\n",
    "item1 = 10\n",
    "item2 = 20\n",
    "item1 = item2\n",
    "item2 = 15\n",
    "print(item1, item2)\n"
   ]
  },
  {
   "cell_type": "code",
   "execution_count": 9,
   "metadata": {},
   "outputs": [
    {
     "name": "stdout",
     "output_type": "stream",
     "text": [
      "[1, 2, 3, 4]\n",
      "1859253331520 1859253331520\n"
     ]
    }
   ],
   "source": [
    "# Operação com lista\n",
    "lista1 = [1,2,3]\n",
    "lista2 = lista1\n",
    "lista2.append(4)\n",
    "print(lista1)\n",
    "print(id(lista1), id(lista2)) # endereço de memória"
   ]
  },
  {
   "cell_type": "code",
   "execution_count": 16,
   "metadata": {},
   "outputs": [
    {
     "name": "stdout",
     "output_type": "stream",
     "text": [
      "[2, 3]\n",
      "[1, 2, 3]\n",
      "[2, 3, 4, 5]\n",
      "[1, 2, 3, 4, 5]\n",
      "[2, 3]\n",
      "[1, 2]\n"
     ]
    }
   ],
   "source": [
    "# Fatiamento\n",
    "lista = [1,2,3,4,5]\n",
    "print(lista[1:3])\n",
    "print(lista[:3])\n",
    "print(lista[1:])\n",
    "print(lista[:]) # sem números o comando é exibir a lista toda\n",
    "print(lista[1:-2]) # número negativo começa a fatiar da direita pra esquerda\n",
    "print(lista[:-3])\n"
   ]
  },
  {
   "cell_type": "code",
   "execution_count": 33,
   "metadata": {},
   "outputs": [
    {
     "name": "stdout",
     "output_type": "stream",
     "text": [
      "[1, 2, 3, 4] 1859259364736\n",
      "[1, 2, 3, 4, 5] 1859259043136\n",
      "[1, 4]\n",
      "[1, 2, 3, 4, 5]\n"
     ]
    }
   ],
   "source": [
    "lista1 = [1,2,3,4]\n",
    "lista2 = lista1[:]\n",
    "lista2.append(5)\n",
    "print(lista1,id(lista1))\n",
    "print(lista2,id(lista2))\n",
    "del lista1[1:3] \n",
    "print(lista1)\n",
    "print(lista2)"
   ]
  },
  {
   "cell_type": "code",
   "execution_count": 25,
   "metadata": {},
   "outputs": [
    {
     "name": "stdout",
     "output_type": "stream",
     "text": [
      "True\n",
      "False\n",
      "False\n"
     ]
    }
   ],
   "source": [
    "lista = [7,8,3,2,5]\n",
    "print(5 in lista)\n",
    "print(5 not in lista)\n",
    "print(9 in lista)"
   ]
  },
  {
   "cell_type": "code",
   "execution_count": 31,
   "metadata": {},
   "outputs": [
    {
     "name": "stdout",
     "output_type": "stream",
     "text": [
      "cdefghijklmnopqrstuvwx\n"
     ]
    }
   ],
   "source": [
    "# fatiamento em string\n",
    "texto = \"abcdefghijklmnopqrstuvwxyz\"\n",
    "print(texto[2:-2])"
   ]
  },
  {
   "cell_type": "markdown",
   "metadata": {},
   "source": [
    "### Laboratório 3.6.6"
   ]
  },
  {
   "cell_type": "code",
   "execution_count": 42,
   "metadata": {},
   "outputs": [
    {
     "name": "stdout",
     "output_type": "stream",
     "text": [
      "A lista com os elementos exclusivos aqui\n",
      "[1, 2, 4, 6, 9]\n"
     ]
    }
   ],
   "source": [
    "my_list = [1, 2, 4, 4, 1, 4, 2, 6, 2, 9]\n",
    "#\n",
    "# Escreva seu código aqui.\n",
    "#\n",
    "my_list = list(set(my_list))\n",
    "print(\"A lista com os elementos exclusivos aqui\")\n",
    "print(my_list)\n"
   ]
  }
 ],
 "metadata": {
  "kernelspec": {
   "display_name": ".venv",
   "language": "python",
   "name": "python3"
  },
  "language_info": {
   "codemirror_mode": {
    "name": "ipython",
    "version": 3
   },
   "file_extension": ".py",
   "mimetype": "text/x-python",
   "name": "python",
   "nbconvert_exporter": "python",
   "pygments_lexer": "ipython3",
   "version": "3.13.2"
  }
 },
 "nbformat": 4,
 "nbformat_minor": 2
}
